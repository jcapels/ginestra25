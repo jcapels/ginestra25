{
 "cells": [
  {
   "cell_type": "code",
   "execution_count": 1,
   "id": "c7d18a40",
   "metadata": {},
   "outputs": [],
   "source": [
    "import pandas as pd \n",
    "\n",
    "train_dataset = pd.read_csv(\"train_dataset.csv\")\n",
    "val_dataset = pd.read_csv(\"validation_dataset.csv\")\n",
    "test_dataset = pd.read_csv(\"test_dataset.csv\")\n",
    "\n",
    "\n",
    "pd.concat([train_dataset, val_dataset]).to_csv(\"train_val_dataset.csv\", index=False)"
   ]
  }
 ],
 "metadata": {
  "kernelspec": {
   "display_name": "ginestra",
   "language": "python",
   "name": "python3"
  },
  "language_info": {
   "codemirror_mode": {
    "name": "ipython",
    "version": 3
   },
   "file_extension": ".py",
   "mimetype": "text/x-python",
   "name": "python",
   "nbconvert_exporter": "python",
   "pygments_lexer": "ipython3",
   "version": "3.11.13"
  }
 },
 "nbformat": 4,
 "nbformat_minor": 5
}
